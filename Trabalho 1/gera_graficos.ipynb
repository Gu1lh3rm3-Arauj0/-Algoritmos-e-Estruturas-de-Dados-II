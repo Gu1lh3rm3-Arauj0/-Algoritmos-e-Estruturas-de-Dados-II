{
  "nbformat": 4,
  "nbformat_minor": 0,
  "metadata": {
    "colab": {
      "provenance": []
    },
    "kernelspec": {
      "name": "python3",
      "display_name": "Python 3"
    },
    "language_info": {
      "name": "python"
    }
  },
  "cells": [
    {
      "cell_type": "code",
      "execution_count": null,
      "metadata": {
        "colab": {
          "base_uri": "https://localhost:8080/",
          "height": 35
        },
        "id": "F4AKfdQ1pFSP",
        "outputId": "4e026701-dca3-4731-c02c-f39ea606fb06"
      },
      "outputs": [
        {
          "output_type": "execute_result",
          "data": {
            "text/plain": [
              "'\\nGuilherme Araújo Mendes de Souza - 156437\\nUNIFESP - ICT\\nAED 2\\n'"
            ],
            "application/vnd.google.colaboratory.intrinsic+json": {
              "type": "string"
            }
          },
          "metadata": {},
          "execution_count": 23
        }
      ],
      "source": [
        "'''\n",
        "Guilherme Araújo Mendes de Souza - 156437\n",
        "UNIFESP - ICT\n",
        "AED 2\n",
        "'''"
      ]
    },
    {
      "cell_type": "code",
      "source": [
        "#Bibliotecas\n",
        "import numpy as np\n",
        "import matplotlib.pyplot as plt"
      ],
      "metadata": {
        "id": "C-F-kGobprJg"
      },
      "execution_count": 67,
      "outputs": []
    },
    {
      "cell_type": "code",
      "source": [
        "media = []\n",
        "mediana = []\n",
        "lista_quartil_superior = []\n",
        "lista_quartil_inferior = []\n",
        "\n",
        "insertionSort = []\n",
        "quickSort = []\n",
        "radixSort = []\n",
        "funcao_sort = []\n",
        "\n",
        "media_geral = []\n",
        "mediana_geral = []\n",
        "quartil_s_geral = []\n",
        "quartil_i_geral = []\n",
        "\n",
        "tipo = ''\n",
        "linguagem = ''\n",
        "tamanho = ''\n",
        "algoritmo = ''\n",
        "tamanho_teste = ''\n",
        "i = 0"
      ],
      "metadata": {
        "id": "GVuI1GJT4beb"
      },
      "execution_count": 68,
      "outputs": []
    },
    {
      "cell_type": "code",
      "source": [
        "def grafico(dados, nome_dados, nome, categorias, valores):\n",
        "    plt.bar(nome_dados, dados)\n",
        "\n",
        "    plt.xlabel(categorias)\n",
        "    plt.ylabel(valores)\n",
        "    plt.title(nome)\n",
        "\n",
        "    plt.show()"
      ],
      "metadata": {
        "id": "QAjEOYrD5gtL"
      },
      "execution_count": 69,
      "outputs": []
    },
    {
      "cell_type": "code",
      "source": [
        "def desktop_ou_laptop():\n",
        "  while True:\n",
        "    #opcao1 = input('Informe 1 para Laptop e 2 para Desktop: ')\n",
        "    global i\n",
        "    opcao1 = resp[i][0]\n",
        "    i += 1\n",
        "\n",
        "    if opcao1 == '1':\n",
        "        tipo = 'Laptop'\n",
        "        break\n",
        "    elif opcao1 == '2':\n",
        "        tipo = 'Desktop'\n",
        "        break\n",
        "    else:\n",
        "        print('Opção inválida.')"
      ],
      "metadata": {
        "id": "jQLuhM4dxja7"
      },
      "execution_count": 70,
      "outputs": []
    },
    {
      "cell_type": "code",
      "source": [
        "def Linguagem():\n",
        "  global linguagem\n",
        "  global i\n",
        "  while True:\n",
        "    #opcao2 = input('Informe a linguagem utilizada: \\n 1 - Linguagem C \\n 2 - Python \\n')\n",
        "    opcao2 = resp[i][0]\n",
        "    i += 1\n",
        "\n",
        "    if opcao2 == '1':\n",
        "        linguagem = 'Linguagem C'\n",
        "        break\n",
        "    elif opcao2 == '2':\n",
        "        linguagem = 'Python'\n",
        "        break\n",
        "    else:\n",
        "        print('Opção inválida.')"
      ],
      "metadata": {
        "id": "1NJnnMk7HdFF"
      },
      "execution_count": 71,
      "outputs": []
    },
    {
      "cell_type": "code",
      "source": [
        "def Tamanho ():\n",
        "  media.clear()\n",
        "  mediana.clear()\n",
        "  lista_quartil_superior.clear()\n",
        "  lista_quartil_inferior.clear()\n",
        "\n",
        "  global tamanho_teste\n",
        "  global i\n",
        "\n",
        "  while True:\n",
        "    #opcao3 = input('Informe o tamanho o teste: \\n 1 - Mil \\n 2 - Cinco Mil \\n 3 - Dez Mil \\n 4 - Cem Mil \\n 5 - Um Milhão \\n')\n",
        "    opcao3 = resp[i][0]\n",
        "    i += 1\n",
        "\n",
        "    if opcao3 == '1':\n",
        "        tamanho_teste = 'mil'\n",
        "        break\n",
        "    elif opcao3 == '2':\n",
        "        tamanho_teste = 'cinco mil'\n",
        "        break\n",
        "    elif opcao3 == '3':\n",
        "        tamanho_teste = 'dez mil'\n",
        "        break\n",
        "    elif opcao3 == '4':\n",
        "        tamanho_teste = 'cem mil'\n",
        "        break\n",
        "    elif opcao3 == '5':\n",
        "        tamanho_teste = 'um milhão'\n",
        "        break\n",
        "    else:\n",
        "        print('Opção inválida.')"
      ],
      "metadata": {
        "id": "vkfPtM0pHh2t"
      },
      "execution_count": 72,
      "outputs": []
    },
    {
      "cell_type": "code",
      "source": [
        "def Algoritmo():\n",
        "\n",
        "  global algoritmo\n",
        "  global linguagem\n",
        "  global i\n",
        "  while True:\n",
        "    #opcao4 = input('Informe o algoritmo usado: \\n 1 - InsertionSort \\n 2 - QuickSort \\n 3 - RadixSort \\n 4 - Função .sort() \\n')\n",
        "    opcao4 = resp[i][0]\n",
        "    i += 1\n",
        "\n",
        "    if opcao4 == '1':\n",
        "        algoritmo = 'InsertionSort'\n",
        "        break\n",
        "    elif opcao4 == '2':\n",
        "        algoritmo = 'QuickSort'\n",
        "        break\n",
        "    elif opcao4 == '3':\n",
        "        algoritmo = 'RadixSort'\n",
        "        break\n",
        "    elif opcao4 == '4':\n",
        "        if linguagem == 'Linguagem C':\n",
        "            print('Opção disponível somente para a linguagem python')\n",
        "        else:\n",
        "            algoritmo = 'Função .sort()'\n",
        "            break\n",
        "    else:\n",
        "        print('Opção inválida.')"
      ],
      "metadata": {
        "id": "fXfjTOCEHT6D"
      },
      "execution_count": 73,
      "outputs": []
    },
    {
      "cell_type": "code",
      "source": [
        "def Executa():\n",
        "    testes = []\n",
        "    qtd_execucoes = []\n",
        "    global linguagem\n",
        "    global i\n",
        "\n",
        "    #n_execucoes = int(input('Informe o número de execuções relizadas: '))\n",
        "    n_execucoes = int(resp[i][0])\n",
        "    i += 1\n",
        "\n",
        "    for j in range(1, n_execucoes+1):\n",
        "        #testes.append(float(input(f'Informe o tempo em milissegundos da {j}ª execuções com {tamanho_teste} elementos: ')))\n",
        "        result = float(resp[i][0])\n",
        "        i += 1\n",
        "        testes.append(result)\n",
        "        qtd_execucoes.append(f'{j}ª execuções')\n",
        "\n",
        "    #grafico(testes, qtd_execucoes, f'Execuções do {algoritmo} com {tamanho_teste} elementos', 'Execuções', 'Milissegundos' )\n",
        "    #print(np.mean(testes))\n",
        "    quartis = np.percentile(testes, [25, 75])\n",
        "    quartil_inferior, quartil_superior = quartis[0], quartis[1]\n",
        "    media.append(np.mean(testes))\n",
        "    mediana.append(np.median(testes))\n",
        "    lista_quartil_superior.append(quartil_superior)\n",
        "    lista_quartil_inferior.append(quartil_inferior)\n",
        "\n",
        "    if algoritmo == 'InsertionSort':\n",
        "      insertionSort.append(np.mean(testes))\n",
        "    elif algoritmo == 'QuickSort':\n",
        "      quickSort.append(np.mean(testes))\n",
        "    elif algoritmo == 'RadixSort':\n",
        "      radixSort.append(np.mean(testes))\n",
        "    elif algoritmo == 'Função .sort()':\n",
        "      funcao_sort.append(np.mean(testes))"
      ],
      "metadata": {
        "id": "0n6jwq0-4rQL"
      },
      "execution_count": 74,
      "outputs": []
    },
    {
      "cell_type": "code",
      "source": [
        "def dados_geral():\n",
        "  global linguagem\n",
        "\n",
        "  lista_algoritmos = ['InsertionSort', 'QuickSort', 'RadixSort', 'Função .sort()']\n",
        "\n",
        "  quartis_insertion = np.percentile(insertionSort, [25, 75])\n",
        "  quartil_inferior_insertion, quartil_superior_insertion = quartis_insertion[0], quartis_insertion[1]\n",
        "\n",
        "  quartis_quick = np.percentile(quickSort, [25, 75])\n",
        "  quartil_inferior_quick, quartil_superior_quick = quartis_quick[0], quartis_quick[1]\n",
        "\n",
        "  quartis_radix = np.percentile(radixSort, [25, 75])\n",
        "  quartil_inferior_radix, quartil_superior_radix = quartis_radix[0], quartis_radix[1]\n",
        "\n",
        "  media_geral.append(np.mean(insertionSort))\n",
        "  media_geral.append(np.mean(quickSort))\n",
        "  media_geral.append(np.mean(radixSort))\n",
        "\n",
        "  mediana_geral.append(np.median(insertionSort))\n",
        "  mediana_geral.append(np.median(quickSort))\n",
        "  mediana_geral.append(np.median(radixSort))\n",
        "\n",
        "  quartil_s_geral.append(quartil_superior_insertion)\n",
        "  quartil_s_geral.append(quartil_superior_quick)\n",
        "  quartil_s_geral.append(quartil_superior_radix)\n",
        "\n",
        "  quartil_i_geral.append(quartil_inferior_insertion)\n",
        "  quartil_i_geral.append(quartil_inferior_quick)\n",
        "  quartil_i_geral.append(quartil_inferior_radix)\n",
        "\n",
        "  if linguagem ==  'Linguagem C':\n",
        "      lista_algoritmos.remove('Função .sort()')\n",
        "  else:\n",
        "    quartis_funcao = np.percentile(funcao_sort, [25, 75])\n",
        "    quartil_inferior_funcao, quartil_superior_funcao = quartis_funcao[0], quartis_funcao[1]\n",
        "\n",
        "    media_geral.append(np.mean(funcao_sort))\n",
        "    mediana_geral.append(np.median(funcao_sort))\n",
        "    quartil_s_geral.append(quartil_superior_funcao)\n",
        "    quartil_i_geral.append(quartil_inferior_funcao)"
      ],
      "metadata": {
        "id": "2eDXlEh6W_QR"
      },
      "execution_count": 75,
      "outputs": []
    },
    {
      "cell_type": "code",
      "source": [
        "def gera_grafico_tamanho():\n",
        "\n",
        "    global linguagem\n",
        "    global algoritmo\n",
        "    global tamanho_teste\n",
        "\n",
        "    lista_algoritmos = ['InsertionSort', 'QuickSort', 'RadixSort', 'Função .sort()']\n",
        "\n",
        "    if linguagem ==  'Linguagem C':\n",
        "      lista_algoritmos.remove('Função .sort()')\n",
        "\n",
        "    grafico(media, lista_algoritmos, f'Média com {tamanho_teste} elementos em {linguagem}', 'Algoritmo', 'Milissegundos' )\n",
        "    print('\\n')\n",
        "    grafico(mediana, lista_algoritmos, f'Mediana com {tamanho_teste} elementos em {linguagem}', 'Algoritmo', 'Milissegundos' )\n",
        "    print('\\n')\n",
        "    grafico( lista_quartil_superior, lista_algoritmos, f'Quartil superior com {tamanho_teste} elementos em {linguagem}', 'Algoritmo', 'Milissegundos' )\n",
        "    print('\\n')\n",
        "    grafico(lista_quartil_inferior, lista_algoritmos, f'Quartil inferior com {tamanho_teste} elementos em {linguagem}', 'Algoritmo', 'Milissegundos' )\n",
        "    print('\\n')"
      ],
      "metadata": {
        "id": "q5XxsJjDLiLf"
      },
      "execution_count": 76,
      "outputs": []
    },
    {
      "cell_type": "code",
      "source": [
        "def gera_grafico_geral():\n",
        "    global linguagem\n",
        "    global algoritmo\n",
        "    global tamanho_teste\n",
        "\n",
        "    lista_algoritmos = ['InsertionSort', 'QuickSort', 'RadixSort', 'Função .sort()']\n",
        "\n",
        "    if linguagem ==  'Linguagem C':\n",
        "      lista_algoritmos.remove('Função .sort()')\n",
        "\n",
        "    grafico(media_geral, lista_algoritmos, f'Média do {algoritmo} com {tamanho_teste} elementos em {linguagem}', 'Algoritmo', 'Milissegundos' )\n",
        "    print('\\n')\n",
        "    grafico(mediana_geral, lista_algoritmos, f'Mediana do {algoritmo} com {tamanho_teste} elementos em {linguagem}', 'Algoritmo', 'Milissegundos' )\n",
        "    print('\\n')\n",
        "    grafico(quartil_s_geral, lista_algoritmos, f'Quartil superior do {algoritmo} com {tamanho_teste} elementos em {linguagem}', 'Algoritmo', 'Milissegundos' )\n",
        "    print('\\n')\n",
        "    grafico(quartil_i_geral, lista_algoritmos, f'Quartil inferior do {algoritmo} com {tamanho_teste} elementos em {linguagem}', 'Algoritmo', 'Milissegundos' )\n",
        "    print('\\n')"
      ],
      "metadata": {
        "id": "MD1_C8TyQ9Gu"
      },
      "execution_count": 65,
      "outputs": []
    },
    {
      "cell_type": "code",
      "source": [
        "for _ in range(1):\n",
        "    desktop_ou_laptop()\n",
        "\n",
        "    for _ in range(2):\n",
        "        Linguagem()\n",
        "\n",
        "        for _ in range(5):\n",
        "            Tamanho()\n",
        "\n",
        "            if linguagem == 'Linguagem C':\n",
        "                for _ in range(3):\n",
        "                      Algoritmo()\n",
        "                      Executa()\n",
        "            else:\n",
        "                for _ in range(4):\n",
        "                    Algoritmo()\n",
        "                    Executa()\n",
        "\n",
        "            gera_grafico_tamanho()\n",
        "\n",
        "          #dados_geral()\n",
        "          #gera_grafico_geral() - Não está funcionando"
      ],
      "metadata": {
        "id": "pILQtSOABT5x"
      },
      "execution_count": null,
      "outputs": []
    },
    {
      "cell_type": "markdown",
      "source": [
        "# Nova seção"
      ],
      "metadata": {
        "id": "Fb0CJPWeIFMT"
      }
    }
  ]
}